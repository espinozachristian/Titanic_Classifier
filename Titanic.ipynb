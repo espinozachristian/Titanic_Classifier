{
 "cells": [
  {
   "cell_type": "code",
   "execution_count": 1,
   "metadata": {},
   "outputs": [
    {
     "name": "stderr",
     "output_type": "stream",
     "text": [
      "D:\\Users\\Megatron\\Anaconda3\\lib\\site-packages\\dask\\config.py:168: YAMLLoadWarning: calling yaml.load() without Loader=... is deprecated, as the default Loader is unsafe. Please read https://msg.pyyaml.org/load for full details.\n",
      "  data = yaml.load(f.read()) or {}\n",
      "D:\\Users\\Megatron\\Anaconda3\\lib\\site-packages\\distributed\\config.py:20: YAMLLoadWarning: calling yaml.load() without Loader=... is deprecated, as the default Loader is unsafe. Please read https://msg.pyyaml.org/load for full details.\n",
      "  defaults = yaml.load(f)\n"
     ]
    }
   ],
   "source": [
    "#Base\n",
    "import pandas as pd\n",
    "import numpy as np\n",
    "\n",
    "#Plot\n",
    "import seaborn as sns\n",
    "import matplotlib.pyplot as plt\n",
    "%matplotlib inline\n",
    "\n",
    "#Modelos\n",
    "from sklearn.ensemble import RandomForestClassifier\n",
    "from lightgbm import LGBMClassifier\n",
    "from sklearn.neighbors import KNeighborsClassifier\n",
    "from xgboost.sklearn import XGBClassifier\n",
    "\n",
    "#Metrics\n",
    "from sklearn.metrics import make_scorer, accuracy_score\n",
    "\n",
    "#Model Select\n",
    "from sklearn.model_selection import KFold\n",
    "from sklearn.model_selection import GridSearchCV\n",
    "from sklearn.model_selection import cross_val_score\n",
    "from sklearn.model_selection import train_test_split\n",
    "from sklearn.model_selection import StratifiedKFold\n",
    "\n",
    "#Skopt Lib\n",
    "from skopt import gp_minimize\n",
    "from skopt.plots import plot_convergence\n",
    "\n",
    "import warnings\n",
    "warnings.filterwarnings(\"ignore\")"
   ]
  },
  {
   "cell_type": "code",
   "execution_count": 2,
   "metadata": {},
   "outputs": [],
   "source": [
    "df_train = pd.read_csv('train.csv')"
   ]
  },
  {
   "cell_type": "markdown",
   "metadata": {},
   "source": [
    "<div style=\"text-align:center;\">\n",
    "    <h1>Introdução </h1>\n",
    "    <p>Tentarei nesse notebook descrever passo a passo da forma que foi pensada para buscar um resultado satisfario do nosso modelo para classificar entre Sobrevivente e pessoas que morreram no incidente do Titanic, alem do codigo tentarei referenciar o maximo possivel de informações para quem esteja começando para usar como base para compreender e se aprofundar nas tecnicas,exemplificando podendo assim tirarem suas proprias hipóteses</p>\n",
    "</div>"
   ]
  },
  {
   "cell_type": "markdown",
   "metadata": {},
   "source": [
    "<div style=\"text-align:center;\">\n",
    "    <h1>Sumário </h1>\n",
    "</div>\n",
    "<h3>1 - Exploração dos dados</h3>\n",
    "<p style=\"text-indent:3em\">1.1 - Verificação de valores nulos e drop de coluna que não iremos utiliza</p>\n",
    "<p style=\"text-indent:3em\">1.2 - Valores estatisticos da coluna idade e preenchimento dos valores nulos</p>\n",
    "<p style=\"text-indent:3em\">1.3 - Verificação dos valores nulos e preenchimento da coluna Embarque</p>\n",
    "<p style=\"text-indent:3em\">1.4 - Verificação dos tipos das colunas</p>\n",
    "<p style=\"text-indent:3em\">1.5 - Criação de variaveis Dummies</p>\n",
    "<p style=\"text-indent:3em\">1.6 - Extração com regex e tratamento da coluna</p>\n",
    "<p style=\"text-indent:3em\">1.7 - Criando Grupo por idade</p>\n",
    "<p style=\"text-indent:3em\">1.8 - Escolha das Features</p>\n",
    "<h3>2 - Modelagem</h3>\n",
    "<p style=\"text-indent:3em\">2.1 - RandomFlorestClassifier</p>\n",
    "<p style=\"text-indent:3em\">2.2 - LGBMClassifier</p>\n",
    "<p style=\"text-indent:3em\">2.3 - XGBClassifier</p>\n",
    "<p style=\"text-indent:3em\">2.4 - XGBC com gp_minimize</p>\n",
    "<p style=\"text-indent:3em\">2.4 - KNN</p>\n",
    "\n",
    "<h3>3 - Aplicação</h3>\n",
    "\n"
   ]
  },
  {
   "cell_type": "markdown",
   "metadata": {},
   "source": [
    "## Exploração dos dados"
   ]
  },
  {
   "cell_type": "code",
   "execution_count": 3,
   "metadata": {},
   "outputs": [
    {
     "data": {
      "text/html": [
       "<div>\n",
       "<style scoped>\n",
       "    .dataframe tbody tr th:only-of-type {\n",
       "        vertical-align: middle;\n",
       "    }\n",
       "\n",
       "    .dataframe tbody tr th {\n",
       "        vertical-align: top;\n",
       "    }\n",
       "\n",
       "    .dataframe thead th {\n",
       "        text-align: right;\n",
       "    }\n",
       "</style>\n",
       "<table border=\"1\" class=\"dataframe\">\n",
       "  <thead>\n",
       "    <tr style=\"text-align: right;\">\n",
       "      <th></th>\n",
       "      <th>PassengerId</th>\n",
       "      <th>Survived</th>\n",
       "      <th>Pclass</th>\n",
       "      <th>Name</th>\n",
       "      <th>Sex</th>\n",
       "      <th>Age</th>\n",
       "      <th>SibSp</th>\n",
       "      <th>Parch</th>\n",
       "      <th>Ticket</th>\n",
       "      <th>Fare</th>\n",
       "      <th>Cabin</th>\n",
       "      <th>Embarked</th>\n",
       "    </tr>\n",
       "  </thead>\n",
       "  <tbody>\n",
       "    <tr>\n",
       "      <th>0</th>\n",
       "      <td>1</td>\n",
       "      <td>0</td>\n",
       "      <td>3</td>\n",
       "      <td>Braund, Mr. Owen Harris</td>\n",
       "      <td>male</td>\n",
       "      <td>22.0</td>\n",
       "      <td>1</td>\n",
       "      <td>0</td>\n",
       "      <td>A/5 21171</td>\n",
       "      <td>7.2500</td>\n",
       "      <td>NaN</td>\n",
       "      <td>S</td>\n",
       "    </tr>\n",
       "    <tr>\n",
       "      <th>1</th>\n",
       "      <td>2</td>\n",
       "      <td>1</td>\n",
       "      <td>1</td>\n",
       "      <td>Cumings, Mrs. John Bradley (Florence Briggs Th...</td>\n",
       "      <td>female</td>\n",
       "      <td>38.0</td>\n",
       "      <td>1</td>\n",
       "      <td>0</td>\n",
       "      <td>PC 17599</td>\n",
       "      <td>71.2833</td>\n",
       "      <td>C85</td>\n",
       "      <td>C</td>\n",
       "    </tr>\n",
       "  </tbody>\n",
       "</table>\n",
       "</div>"
      ],
      "text/plain": [
       "   PassengerId  Survived  Pclass  \\\n",
       "0            1         0       3   \n",
       "1            2         1       1   \n",
       "\n",
       "                                                Name     Sex   Age  SibSp  \\\n",
       "0                            Braund, Mr. Owen Harris    male  22.0      1   \n",
       "1  Cumings, Mrs. John Bradley (Florence Briggs Th...  female  38.0      1   \n",
       "\n",
       "   Parch     Ticket     Fare Cabin Embarked  \n",
       "0      0  A/5 21171   7.2500   NaN        S  \n",
       "1      0   PC 17599  71.2833   C85        C  "
      ]
     },
     "execution_count": 3,
     "metadata": {},
     "output_type": "execute_result"
    }
   ],
   "source": [
    "df_train.head(2)"
   ]
  },
  {
   "cell_type": "markdown",
   "metadata": {},
   "source": [
    "#### 1.1 - Verificação de valores nulos"
   ]
  },
  {
   "cell_type": "code",
   "execution_count": 4,
   "metadata": {},
   "outputs": [
    {
     "data": {
      "text/plain": [
       "PassengerId      0\n",
       "Survived         0\n",
       "Pclass           0\n",
       "Name             0\n",
       "Sex              0\n",
       "Age            177\n",
       "SibSp            0\n",
       "Parch            0\n",
       "Ticket           0\n",
       "Fare             0\n",
       "Cabin          687\n",
       "Embarked         2\n",
       "dtype: int64"
      ]
     },
     "execution_count": 4,
     "metadata": {},
     "output_type": "execute_result"
    }
   ],
   "source": [
    "df_train.isna().sum()"
   ]
  },
  {
   "cell_type": "code",
   "execution_count": null,
   "metadata": {},
   "outputs": [],
   "source": [
    "df_train.drop(columns={'Cabin'},inplace=True)"
   ]
  },
  {
   "cell_type": "markdown",
   "metadata": {},
   "source": [
    "#### 1.2 - Valores estatisticos da coluna idade e preenchimento dos valores nulos"
   ]
  },
  {
   "cell_type": "code",
   "execution_count": 5,
   "metadata": {},
   "outputs": [
    {
     "data": {
      "text/plain": [
       "count    714.000000\n",
       "mean      29.699118\n",
       "std       14.526497\n",
       "min        0.420000\n",
       "25%       20.125000\n",
       "50%       28.000000\n",
       "75%       38.000000\n",
       "max       80.000000\n",
       "Name: Age, dtype: float64"
      ]
     },
     "execution_count": 5,
     "metadata": {},
     "output_type": "execute_result"
    }
   ],
   "source": [
    "df_train['Age'].describe()"
   ]
  },
  {
   "cell_type": "code",
   "execution_count": 6,
   "metadata": {},
   "outputs": [],
   "source": [
    "df_train['Age'].fillna(df_train['Age'].mean(),inplace=True)"
   ]
  },
  {
   "cell_type": "markdown",
   "metadata": {},
   "source": [
    "#### 1.3 - Verificação dos valores nulos e preenchimento da coluna Embarque"
   ]
  },
  {
   "cell_type": "code",
   "execution_count": 7,
   "metadata": {},
   "outputs": [
    {
     "data": {
      "text/plain": [
       "count     889\n",
       "unique      3\n",
       "top         S\n",
       "freq      644\n",
       "Name: Embarked, dtype: object"
      ]
     },
     "execution_count": 7,
     "metadata": {},
     "output_type": "execute_result"
    }
   ],
   "source": [
    "df_train['Embarked'].describe()"
   ]
  },
  {
   "cell_type": "code",
   "execution_count": 8,
   "metadata": {},
   "outputs": [],
   "source": [
    "df_train['Embarked'].fillna('S',inplace=True)"
   ]
  },
  {
   "cell_type": "code",
   "execution_count": 10,
   "metadata": {},
   "outputs": [],
   "source": [
    "df_train2 = df_train.copy()"
   ]
  },
  {
   "cell_type": "markdown",
   "metadata": {},
   "source": [
    "#### 1.4 - Verificação dos tipos das colunas"
   ]
  },
  {
   "cell_type": "code",
   "execution_count": 12,
   "metadata": {},
   "outputs": [
    {
     "data": {
      "text/plain": [
       "PassengerId      int64\n",
       "Survived         int64\n",
       "Pclass           int64\n",
       "Name            object\n",
       "Sex             object\n",
       "Age            float64\n",
       "SibSp            int64\n",
       "Parch            int64\n",
       "Ticket          object\n",
       "Fare           float64\n",
       "Embarked        object\n",
       "dtype: object"
      ]
     },
     "execution_count": 12,
     "metadata": {},
     "output_type": "execute_result"
    }
   ],
   "source": [
    "df_train2.dtypes"
   ]
  },
  {
   "cell_type": "markdown",
   "metadata": {},
   "source": [
    "#### 1.5 - Criação de variaveis Dummies\n",
    "<p>Variável dummy é uma variável categegórica que foi transformada em numérica.Por exemplo a coluna Sexo, temos \"masculino\" e \"feminino\" iremos transformar essas variaveis em numerica.Criando uma nova coluna apenas para Masc. e Fem. onde sera setado 1 para positivo e 0 para negativo</p>"
   ]
  },
  {
   "cell_type": "code",
   "execution_count": 13,
   "metadata": {},
   "outputs": [],
   "source": [
    "df_train3 = pd.get_dummies(df_train2, columns=['Sex','Embarked'])"
   ]
  },
  {
   "cell_type": "code",
   "execution_count": 14,
   "metadata": {},
   "outputs": [
    {
     "data": {
      "text/html": [
       "<div>\n",
       "<style scoped>\n",
       "    .dataframe tbody tr th:only-of-type {\n",
       "        vertical-align: middle;\n",
       "    }\n",
       "\n",
       "    .dataframe tbody tr th {\n",
       "        vertical-align: top;\n",
       "    }\n",
       "\n",
       "    .dataframe thead th {\n",
       "        text-align: right;\n",
       "    }\n",
       "</style>\n",
       "<table border=\"1\" class=\"dataframe\">\n",
       "  <thead>\n",
       "    <tr style=\"text-align: right;\">\n",
       "      <th></th>\n",
       "      <th>PassengerId</th>\n",
       "      <th>Survived</th>\n",
       "      <th>Pclass</th>\n",
       "      <th>Name</th>\n",
       "      <th>Age</th>\n",
       "      <th>SibSp</th>\n",
       "      <th>Parch</th>\n",
       "      <th>Ticket</th>\n",
       "      <th>Fare</th>\n",
       "      <th>Sex_female</th>\n",
       "      <th>Sex_male</th>\n",
       "      <th>Embarked_C</th>\n",
       "      <th>Embarked_Q</th>\n",
       "      <th>Embarked_S</th>\n",
       "    </tr>\n",
       "  </thead>\n",
       "  <tbody>\n",
       "    <tr>\n",
       "      <th>0</th>\n",
       "      <td>1</td>\n",
       "      <td>0</td>\n",
       "      <td>3</td>\n",
       "      <td>Braund, Mr. Owen Harris</td>\n",
       "      <td>22.0</td>\n",
       "      <td>1</td>\n",
       "      <td>0</td>\n",
       "      <td>A/5 21171</td>\n",
       "      <td>7.2500</td>\n",
       "      <td>0</td>\n",
       "      <td>1</td>\n",
       "      <td>0</td>\n",
       "      <td>0</td>\n",
       "      <td>1</td>\n",
       "    </tr>\n",
       "    <tr>\n",
       "      <th>1</th>\n",
       "      <td>2</td>\n",
       "      <td>1</td>\n",
       "      <td>1</td>\n",
       "      <td>Cumings, Mrs. John Bradley (Florence Briggs Th...</td>\n",
       "      <td>38.0</td>\n",
       "      <td>1</td>\n",
       "      <td>0</td>\n",
       "      <td>PC 17599</td>\n",
       "      <td>71.2833</td>\n",
       "      <td>1</td>\n",
       "      <td>0</td>\n",
       "      <td>1</td>\n",
       "      <td>0</td>\n",
       "      <td>0</td>\n",
       "    </tr>\n",
       "  </tbody>\n",
       "</table>\n",
       "</div>"
      ],
      "text/plain": [
       "   PassengerId  Survived  Pclass  \\\n",
       "0            1         0       3   \n",
       "1            2         1       1   \n",
       "\n",
       "                                                Name   Age  SibSp  Parch  \\\n",
       "0                            Braund, Mr. Owen Harris  22.0      1      0   \n",
       "1  Cumings, Mrs. John Bradley (Florence Briggs Th...  38.0      1      0   \n",
       "\n",
       "      Ticket     Fare  Sex_female  Sex_male  Embarked_C  Embarked_Q  \\\n",
       "0  A/5 21171   7.2500           0         1           0           0   \n",
       "1   PC 17599  71.2833           1         0           1           0   \n",
       "\n",
       "   Embarked_S  \n",
       "0           1  \n",
       "1           0  "
      ]
     },
     "execution_count": 14,
     "metadata": {},
     "output_type": "execute_result"
    }
   ],
   "source": [
    "df_train3.head(2)"
   ]
  },
  {
   "cell_type": "markdown",
   "metadata": {},
   "source": [
    "#### 1.6 Extração com regex \n",
    "<p>Iremos utilizar Regex(Expressão regular) para extrair o titulo das pessoas baseando na coluna nome e criar assim uma nova coluna</p>"
   ]
  },
  {
   "cell_type": "code",
   "execution_count": 15,
   "metadata": {},
   "outputs": [
    {
     "data": {
      "text/plain": [
       "['Mr',\n",
       " 'Mrs',\n",
       " 'Miss',\n",
       " 'Master',\n",
       " 'Don',\n",
       " 'Rev',\n",
       " 'Dr',\n",
       " 'Mme',\n",
       " 'Ms',\n",
       " 'Major',\n",
       " 'Lady',\n",
       " 'Sir',\n",
       " 'Mlle',\n",
       " 'Col',\n",
       " 'Capt',\n",
       " 'Countess',\n",
       " 'Jonkheer']"
      ]
     },
     "execution_count": 15,
     "metadata": {},
     "output_type": "execute_result"
    }
   ],
   "source": [
    "df_train3['Title'] = df_train3['Name'].str.extract(' ([A-Za-z]+)\\.', expand = False)\n",
    "df_train3['Title'].unique().tolist()"
   ]
  },
  {
   "cell_type": "code",
   "execution_count": 16,
   "metadata": {},
   "outputs": [
    {
     "data": {
      "text/plain": [
       "Mr          58.024691\n",
       "Miss        20.426487\n",
       "Mrs         14.029181\n",
       "Master       4.489338\n",
       "Dr           0.785634\n",
       "Rev          0.673401\n",
       "Major        0.224467\n",
       "Mlle         0.224467\n",
       "Col          0.224467\n",
       "Don          0.112233\n",
       "Countess     0.112233\n",
       "Sir          0.112233\n",
       "Lady         0.112233\n",
       "Jonkheer     0.112233\n",
       "Mme          0.112233\n",
       "Ms           0.112233\n",
       "Capt         0.112233\n",
       "Name: Title, dtype: float64"
      ]
     },
     "execution_count": 16,
     "metadata": {},
     "output_type": "execute_result"
    }
   ],
   "source": [
    "df_train3['Title'].value_counts(normalize=True)*100"
   ]
  },
  {
   "cell_type": "code",
   "execution_count": 17,
   "metadata": {},
   "outputs": [
    {
     "data": {
      "text/plain": [
       "Mr        58.024691\n",
       "Miss      20.763187\n",
       "Mrs       14.141414\n",
       "Master     4.489338\n",
       "Rare       2.581369\n",
       "Name: Title, dtype: float64"
      ]
     },
     "execution_count": 17,
     "metadata": {},
     "output_type": "execute_result"
    }
   ],
   "source": [
    "mapping = {'Mlle': 'Miss', 'Major': 'Rare', 'Col': 'Rare', 'Sir': 'Rare', 'Don': 'Rare', 'Mme': 'Mrs',\n",
    "           'Jonkheer': 'Rare', 'Lady': 'Rare', 'Capt': 'Rare', 'Countess': 'Rare', 'Ms': 'Miss', 'Dona': 'Mrs', 'Rev':'Rare', 'Dr':'Rare'}\n",
    "\n",
    "df_train3.replace({'Title': mapping}, inplace=True)\n",
    "\n",
    "df_train3['Title'].value_counts(normalize=True)*100"
   ]
  },
  {
   "cell_type": "code",
   "execution_count": 18,
   "metadata": {},
   "outputs": [],
   "source": [
    "df_train3['Title'] = df_train3['Title'].map({'Mr':0, 'Miss':1, 'Mrs':2, 'Master':3, 'Rare':4})"
   ]
  },
  {
   "cell_type": "markdown",
   "metadata": {},
   "source": [
    "#### 1.7 - Criando Grupo por idade\n",
    "<p>Nesse caso irei utilizar a idade que foi fornecida do nosso dataset para criação dos grupos para saber se o passageiro era uma criança,jovem,adulto e etc.Nesse caso estamos fazendo Feacture Engineer onde transformamos uma coluna para obter uma outra através dela</p>"
   ]
  },
  {
   "cell_type": "code",
   "execution_count": 39,
   "metadata": {},
   "outputs": [],
   "source": [
    "bins = [-1, 0, 14, 25, 35, 60, np.inf]\n",
    "labels = ['Unknown', 'Child', 'Teenager', 'Young Adult', 'Adult', 'Senior']\n",
    "df_train3['AgeGroup'] = pd.cut(df_train3[\"Age\"], bins, labels = labels)\n",
    "age_mapping = {'Unknown': None,'Child': 1, 'Teenager': 2, 'Young Adult': 3, 'Adult': 4, 'Senior': 5}\n",
    "df_train3['AgeGroup'] = df_train3['AgeGroup'].map(age_mapping)"
   ]
  },
  {
   "cell_type": "code",
   "execution_count": 40,
   "metadata": {},
   "outputs": [
    {
     "data": {
      "text/html": [
       "<div>\n",
       "<style scoped>\n",
       "    .dataframe tbody tr th:only-of-type {\n",
       "        vertical-align: middle;\n",
       "    }\n",
       "\n",
       "    .dataframe tbody tr th {\n",
       "        vertical-align: top;\n",
       "    }\n",
       "\n",
       "    .dataframe thead th {\n",
       "        text-align: right;\n",
       "    }\n",
       "</style>\n",
       "<table border=\"1\" class=\"dataframe\">\n",
       "  <thead>\n",
       "    <tr style=\"text-align: right;\">\n",
       "      <th></th>\n",
       "      <th>PassengerId</th>\n",
       "      <th>Survived</th>\n",
       "      <th>Pclass</th>\n",
       "      <th>Name</th>\n",
       "      <th>Age</th>\n",
       "      <th>SibSp</th>\n",
       "      <th>Parch</th>\n",
       "      <th>Ticket</th>\n",
       "      <th>Fare</th>\n",
       "      <th>Sex_female</th>\n",
       "      <th>Sex_male</th>\n",
       "      <th>Embarked_C</th>\n",
       "      <th>Embarked_Q</th>\n",
       "      <th>Embarked_S</th>\n",
       "      <th>Title</th>\n",
       "      <th>AgeGroup</th>\n",
       "    </tr>\n",
       "  </thead>\n",
       "  <tbody>\n",
       "    <tr>\n",
       "      <th>0</th>\n",
       "      <td>1</td>\n",
       "      <td>0</td>\n",
       "      <td>3</td>\n",
       "      <td>Braund, Mr. Owen Harris</td>\n",
       "      <td>22.0</td>\n",
       "      <td>1</td>\n",
       "      <td>0</td>\n",
       "      <td>A/5 21171</td>\n",
       "      <td>7.2500</td>\n",
       "      <td>0</td>\n",
       "      <td>1</td>\n",
       "      <td>0</td>\n",
       "      <td>0</td>\n",
       "      <td>1</td>\n",
       "      <td>0</td>\n",
       "      <td>2.0</td>\n",
       "    </tr>\n",
       "    <tr>\n",
       "      <th>1</th>\n",
       "      <td>2</td>\n",
       "      <td>1</td>\n",
       "      <td>1</td>\n",
       "      <td>Cumings, Mrs. John Bradley (Florence Briggs Th...</td>\n",
       "      <td>38.0</td>\n",
       "      <td>1</td>\n",
       "      <td>0</td>\n",
       "      <td>PC 17599</td>\n",
       "      <td>71.2833</td>\n",
       "      <td>1</td>\n",
       "      <td>0</td>\n",
       "      <td>1</td>\n",
       "      <td>0</td>\n",
       "      <td>0</td>\n",
       "      <td>2</td>\n",
       "      <td>4.0</td>\n",
       "    </tr>\n",
       "  </tbody>\n",
       "</table>\n",
       "</div>"
      ],
      "text/plain": [
       "   PassengerId  Survived  Pclass  \\\n",
       "0            1         0       3   \n",
       "1            2         1       1   \n",
       "\n",
       "                                                Name   Age  SibSp  Parch  \\\n",
       "0                            Braund, Mr. Owen Harris  22.0      1      0   \n",
       "1  Cumings, Mrs. John Bradley (Florence Briggs Th...  38.0      1      0   \n",
       "\n",
       "      Ticket     Fare  Sex_female  Sex_male  Embarked_C  Embarked_Q  \\\n",
       "0  A/5 21171   7.2500           0         1           0           0   \n",
       "1   PC 17599  71.2833           1         0           1           0   \n",
       "\n",
       "   Embarked_S  Title  AgeGroup  \n",
       "0           1      0       2.0  \n",
       "1           0      2       4.0  "
      ]
     },
     "execution_count": 40,
     "metadata": {},
     "output_type": "execute_result"
    }
   ],
   "source": [
    "df_train3.head(2)"
   ]
  },
  {
   "cell_type": "markdown",
   "metadata": {},
   "source": [
    "#### 1.8 Escolha das Features"
   ]
  },
  {
   "cell_type": "code",
   "execution_count": 45,
   "metadata": {},
   "outputs": [],
   "source": [
    "features = ['Pclass','Sex_female','Sex_male','SibSp','Parch','Fare','Embarked_C','Embarked_Q','Embarked_S','Title','AgeGroup']"
   ]
  },
  {
   "cell_type": "markdown",
   "metadata": {},
   "source": [
    "### 2.0 Modelagem"
   ]
  },
  {
   "cell_type": "code",
   "execution_count": 46,
   "metadata": {},
   "outputs": [],
   "source": [
    "X = df_train3[features]\n",
    "y = df_train3['Survived']"
   ]
  },
  {
   "cell_type": "code",
   "execution_count": 47,
   "metadata": {},
   "outputs": [],
   "source": [
    "X_train,X_test,y_train,y_test=train_test_split(X,y,test_size=0.33)"
   ]
  },
  {
   "cell_type": "markdown",
   "metadata": {},
   "source": [
    "#### 2.1 RandomFlorestClassifier"
   ]
  },
  {
   "cell_type": "code",
   "execution_count": 48,
   "metadata": {},
   "outputs": [
    {
     "name": "stdout",
     "output_type": "stream",
     "text": [
      "0.8135593220338984\n"
     ]
    }
   ],
   "source": [
    "# Choose the type of classifier. \n",
    "clf = RandomForestClassifier()\n",
    "\n",
    "# Choose some parameter combinations to try\n",
    "parameters = {'n_estimators': [4, 6, 9,20,50], \n",
    "              'max_features': ['log2', 'sqrt','auto'], \n",
    "              'criterion': ['entropy', 'gini'],\n",
    "              'max_depth': [2,5, 10,50,100,150], \n",
    "              'min_samples_split': [2, 3, 5],\n",
    "              'min_samples_leaf': [1,5,8],\n",
    "              'bootstrap':[True]\n",
    "             }\n",
    "\n",
    "# Type of scoring used to compare parameter combinations\n",
    "acc_scorer = make_scorer(accuracy_score)\n",
    "n_folds = 5\n",
    "skf = StratifiedKFold(n_splits=n_folds,shuffle=True)\n",
    "# Run the grid search\n",
    "grid_obj = GridSearchCV(clf, parameters, acc_scorer,cv=skf.split(X_train, y_train))\n",
    "grid_obj = grid_obj.fit(X_train, y_train)\n",
    "\n",
    "# Set the clf to the best combination of parameters\n",
    "clf = grid_obj.best_estimator_\n",
    "\n",
    "# Fit the best algorithm to the data. \n",
    "clf.fit(X_train, y_train)\n",
    "predictions = clf.predict(X_test)\n",
    "print(accuracy_score(y_test, predictions))"
   ]
  },
  {
   "cell_type": "markdown",
   "metadata": {},
   "source": [
    "Best: Score 0.8379888268156425"
   ]
  },
  {
   "cell_type": "markdown",
   "metadata": {},
   "source": [
    "### 2.2 LGBMClassifier"
   ]
  },
  {
   "cell_type": "code",
   "execution_count": 49,
   "metadata": {},
   "outputs": [
    {
     "name": "stdout",
     "output_type": "stream",
     "text": [
      "0.8203389830508474\n"
     ]
    }
   ],
   "source": [
    "lgb = LGBMClassifier()\n",
    "\n",
    "# Choose some parameter combinations to try\n",
    "param_grid = {\n",
    "            'num_leaves': [60, 80],\n",
    "            'n_estimators': [200, 400], #default class*iteration=2*100\n",
    "            'bagging_freq': [5],\n",
    "            'bagging_fraction' : [0.8, 0.9],  # subsample\n",
    "            'feature_fraction' : [0.8, 0.9], # colsample_bytree\n",
    "            'reg_alpha': [0.2, 0.6, 0.8],\n",
    "            'reg_lambda': [0.4, 0.6, 0.8]\n",
    "            }\n",
    "\n",
    "\n",
    "# Type of scoring used to compare parameter combinations\n",
    "acc_scorer = make_scorer(accuracy_score)\n",
    "n_folds = 5\n",
    "skf = StratifiedKFold(n_splits=n_folds,shuffle=True)\n",
    "# Run the grid search\n",
    "grid_obj3 = GridSearchCV(lgb, param_grid, acc_scorer,cv=skf.split(X_train, y_train))\n",
    "grid_obj3 = grid_obj3.fit(X_train, y_train)\n",
    "\n",
    "# Set the clf to the best combination of parameters\n",
    "clf_3 = grid_obj3.best_estimator_\n",
    "\n",
    "# Fit the best algorithm to the data. \n",
    "clf_3.fit(X_train, y_train)\n",
    "\n",
    "predictions_2 = clf_3.predict(X_test)\n",
    "print(accuracy_score(y_test, predictions_2))"
   ]
  },
  {
   "cell_type": "markdown",
   "metadata": {},
   "source": [
    "### 2.3 XGBC"
   ]
  },
  {
   "cell_type": "code",
   "execution_count": 50,
   "metadata": {},
   "outputs": [
    {
     "name": "stdout",
     "output_type": "stream",
     "text": [
      "0.823728813559322\n"
     ]
    }
   ],
   "source": [
    "params_grid = {\n",
    "'n_estimators': [50, 100, 250, 500],\n",
    "'learning_rate': [0.01, 0.1, 0.3, 0.5],\n",
    "'colsample_bytree': [0.3, 0.5, 0.8],\n",
    "}\n",
    "\n",
    "n_folds = 5\n",
    "skf = StratifiedKFold(n_splits=n_folds,shuffle=True)\n",
    "acc_scorer = make_scorer(accuracy_score)\n",
    "# create xgboost classifier\n",
    "xgb = XGBClassifier(objective = 'binary:logistic')\n",
    "\n",
    "clf_2 = GridSearchCV(xgb, params_grid, acc_scorer,cv=skf.split(X_train, y_train))\n",
    "clf_2.fit(X_train,y_train)\n",
    "pred = clf_2.predict(X_test)\n",
    "print(accuracy_score(y_test, pred))"
   ]
  },
  {
   "cell_type": "markdown",
   "metadata": {},
   "source": [
    "## 2.4 XGBC com gp_minimize"
   ]
  },
  {
   "cell_type": "code",
   "execution_count": 128,
   "metadata": {},
   "outputs": [],
   "source": [
    "def treinar_modelo_xgbc(params):\n",
    "    max_depth = params[0]\n",
    "    learning_rate = params[1]\n",
    "    min_child_weight = params[2]\n",
    "    gamma = params[3]\n",
    "    colsample_bytree = params[4]\n",
    "    print(params, '\\n')\n",
    "    \n",
    "    xgb = XGBClassifier(objective = 'binary:logistic',max_depth=max_depth,\n",
    "                        learning_rate=learning_rate,\n",
    "                        min_child_weight=min_child_weight,\n",
    "                       gamma=gamma,\n",
    "                       colsample_bytree=colsample_bytree,\n",
    "                       random_state = 0)\n",
    "    xgb.fit(X_train, y_train)\n",
    "    \n",
    "    p = xgb.predict(X_test)\n",
    "    \n",
    "    return metrics.accuracy_score(y_test, p)\n",
    "\n",
    "\n",
    "space = [(1, 250),\n",
    "         (0.001,1),\n",
    "         (1,10),\n",
    "         (0.01,1),\n",
    "         (0.01,1)\n",
    "        ]"
   ]
  },
  {
   "cell_type": "code",
   "execution_count": 129,
   "metadata": {},
   "outputs": [
    {
     "name": "stdout",
     "output_type": "stream",
     "text": [
      "Iteration No: 1 started. Evaluating function at random point.\n",
      "[249, 0.9326248019793204, 2, 0.9990501101709035, 0.24372808718245637] \n",
      "\n",
      "Iteration No: 1 ended. Evaluation done at random point.\n",
      "Time taken: 0.0347\n",
      "Function value obtained: 0.8102\n",
      "Current minimum: 0.8102\n",
      "Iteration No: 2 started. Evaluating function at random point.\n",
      "[100, 0.3885228304208455, 7, 0.9361836800979717, 0.8478478075191571] \n",
      "\n",
      "Iteration No: 2 ended. Evaluation done at random point.\n",
      "Time taken: 0.0417\n",
      "Function value obtained: 0.8237\n",
      "Current minimum: 0.8102\n",
      "Iteration No: 3 started. Evaluating function at random point.\n",
      "[79, 0.5250236114132986, 5, 0.23728144159252734, 0.539069769857547] \n",
      "\n",
      "Iteration No: 3 ended. Evaluation done at random point.\n",
      "Time taken: 0.0327\n",
      "Function value obtained: 0.8271\n",
      "Current minimum: 0.8102\n",
      "Iteration No: 4 started. Evaluating function at random point.\n",
      "[229, 0.45774760317900137, 5, 0.9397365115293898, 0.7806053439731684] \n",
      "\n",
      "Iteration No: 4 ended. Evaluation done at random point.\n",
      "Time taken: 0.0362\n",
      "Function value obtained: 0.8373\n",
      "Current minimum: 0.8102\n",
      "Iteration No: 5 started. Evaluating function at random point.\n",
      "[179, 0.8029547464334278, 2, 0.5229710234524703, 0.8663700494591937] \n",
      "\n",
      "Iteration No: 5 ended. Evaluation done at random point.\n",
      "Time taken: 0.0446\n",
      "Function value obtained: 0.8373\n",
      "Current minimum: 0.8102\n",
      "Iteration No: 6 started. Evaluating function at random point.\n",
      "[207, 0.8297737560347896, 3, 0.06865076928854784, 0.6738227596682561] \n",
      "\n",
      "Iteration No: 6 ended. Evaluation done at random point.\n",
      "Time taken: 0.0417\n",
      "Function value obtained: 0.8305\n",
      "Current minimum: 0.8102\n",
      "Iteration No: 7 started. Evaluating function at random point.\n",
      "[149, 0.6719824433247124, 5, 0.20557538900493347, 0.29673334414035435] \n",
      "\n",
      "Iteration No: 7 ended. Evaluation done at random point.\n",
      "Time taken: 0.0327\n",
      "Function value obtained: 0.8271\n",
      "Current minimum: 0.8102\n",
      "Iteration No: 8 started. Evaluating function at random point.\n",
      "[36, 0.7835311582221915, 5, 0.043829598073980666, 0.6277896866125798] \n",
      "\n",
      "Iteration No: 8 ended. Evaluation done at random point.\n",
      "Time taken: 0.0342\n",
      "Function value obtained: 0.8305\n",
      "Current minimum: 0.8102\n",
      "Iteration No: 9 started. Evaluating function at random point.\n",
      "[165, 0.2991967994582917, 5, 0.22990330206002113, 0.08263053002517358] \n",
      "\n",
      "Iteration No: 9 ended. Evaluation done at random point.\n",
      "Time taken: 0.0193\n",
      "Function value obtained: 0.8034\n",
      "Current minimum: 0.8034\n",
      "Iteration No: 10 started. Evaluating function at random point.\n",
      "[118, 0.09707608818501624, 9, 0.1282955633009097, 0.5295513831017412] \n",
      "\n",
      "Iteration No: 10 ended. Evaluation done at random point.\n",
      "Time taken: 2.6464\n",
      "Function value obtained: 0.8169\n",
      "Current minimum: 0.8034\n",
      "Iteration No: 11 started. Searching for the next optimal point.\n",
      "[1, 0.001, 10, 1.0, 0.01] \n",
      "\n",
      "Iteration No: 11 ended. Search finished for the next optimal point.\n",
      "Time taken: 0.3338\n",
      "Function value obtained: 0.7763\n",
      "Current minimum: 0.7763\n",
      "Iteration No: 12 started. Searching for the next optimal point.\n",
      "[250, 1.0, 10, 1.0, 0.01] \n",
      "\n",
      "Iteration No: 12 ended. Search finished for the next optimal point.\n",
      "Time taken: 0.2723\n",
      "Function value obtained: 0.8034\n",
      "Current minimum: 0.7763\n",
      "Iteration No: 13 started. Searching for the next optimal point.\n",
      "[1, 0.001, 1, 1.0, 0.01] \n",
      "\n",
      "Iteration No: 13 ended. Search finished for the next optimal point.\n",
      "Time taken: 0.2991\n",
      "Function value obtained: 0.7763\n",
      "Current minimum: 0.7763\n",
      "Iteration No: 14 started. Searching for the next optimal point.\n",
      "[1, 0.14549878831716131, 1, 1.0, 0.01] \n",
      "\n",
      "Iteration No: 14 ended. Search finished for the next optimal point.\n",
      "Time taken: 0.3194\n",
      "Function value obtained: 0.7898\n",
      "Current minimum: 0.7763\n",
      "Iteration No: 15 started. Searching for the next optimal point.\n",
      "[250, 0.001, 10, 1.0, 0.01] \n",
      "\n",
      "Iteration No: 15 ended. Search finished for the next optimal point.\n",
      "Time taken: 0.2683\n",
      "Function value obtained: 0.7831\n",
      "Current minimum: 0.7763\n",
      "Iteration No: 16 started. Searching for the next optimal point.\n",
      "[78, 0.006781769084594523, 3, 0.06786165644435437, 0.06803027102360548] \n",
      "\n",
      "Iteration No: 16 ended. Search finished for the next optimal point.\n",
      "Time taken: 0.2649\n",
      "Function value obtained: 0.7864\n",
      "Current minimum: 0.7763\n",
      "Iteration No: 17 started. Searching for the next optimal point.\n",
      "[20, 0.002892744803876593, 9, 0.9143948058462276, 0.9299899924477351] \n",
      "\n",
      "Iteration No: 17 ended. Search finished for the next optimal point.\n",
      "Time taken: 0.2872\n",
      "Function value obtained: 0.8102\n",
      "Current minimum: 0.7763\n",
      "Iteration No: 18 started. Searching for the next optimal point.\n",
      "[250, 0.029811059376152763, 3, 0.9153350515975645, 0.032333147137567186] \n",
      "\n",
      "Iteration No: 18 ended. Search finished for the next optimal point.\n",
      "Time taken: 0.2822\n",
      "Function value obtained: 0.7831\n",
      "Current minimum: 0.7763\n",
      "Iteration No: 19 started. Searching for the next optimal point.\n",
      "[31, 0.00997665035635302, 7, 0.11498783265010358, 0.01243138772398181] \n",
      "\n",
      "Iteration No: 19 ended. Search finished for the next optimal point.\n",
      "Time taken: 0.3229\n",
      "Function value obtained: 0.7898\n",
      "Current minimum: 0.7763\n",
      "Iteration No: 20 started. Searching for the next optimal point.\n",
      "[51, 0.047053051839745855, 8, 0.9927697266507671, 0.01115012939351815] \n",
      "\n",
      "Iteration No: 20 ended. Search finished for the next optimal point.\n",
      "Time taken: 0.3080\n",
      "Function value obtained: 0.7831\n",
      "Current minimum: 0.7763\n",
      "Iteration No: 21 started. Searching for the next optimal point.\n",
      "[9, 0.96776780531617, 6, 0.1340981719267641, 0.03808652210023966] \n",
      "\n",
      "Iteration No: 21 ended. Search finished for the next optimal point.\n",
      "Time taken: 0.3125\n",
      "Function value obtained: 0.7932\n",
      "Current minimum: 0.7763\n",
      "Iteration No: 22 started. Searching for the next optimal point.\n",
      "[5, 0.002818349932352156, 4, 0.03849183915207995, 0.02066729829676621] \n",
      "\n",
      "Iteration No: 22 ended. Search finished for the next optimal point.\n",
      "Time taken: 0.3050\n",
      "Function value obtained: 0.7763\n",
      "Current minimum: 0.7763\n",
      "Iteration No: 23 started. Searching for the next optimal point.\n",
      "[1, 0.001, 1, 1.0, 0.01] \n",
      "\n"
     ]
    },
    {
     "name": "stderr",
     "output_type": "stream",
     "text": [
      "D:\\Users\\Megatron\\Anaconda3\\lib\\site-packages\\skopt\\optimizer\\optimizer.py:409: UserWarning: The objective has been evaluated at this point before.\n",
      "  warnings.warn(\"The objective has been evaluated \"\n"
     ]
    },
    {
     "name": "stdout",
     "output_type": "stream",
     "text": [
      "Iteration No: 23 ended. Search finished for the next optimal point.\n",
      "Time taken: 0.3249\n",
      "Function value obtained: 0.7763\n",
      "Current minimum: 0.7763\n",
      "Iteration No: 24 started. Searching for the next optimal point.\n",
      "[215, 0.016486574371321477, 4, 0.045198362873957905, 0.02416326647778661] \n",
      "\n",
      "Iteration No: 24 ended. Search finished for the next optimal point.\n",
      "Time taken: 0.3080\n",
      "Function value obtained: 0.7763\n",
      "Current minimum: 0.7763\n",
      "Iteration No: 25 started. Searching for the next optimal point.\n",
      "[6, 0.49714188673195897, 2, 0.6268482028559071, 0.010266506285695552] \n",
      "\n",
      "Iteration No: 25 ended. Search finished for the next optimal point.\n",
      "Time taken: 0.3571\n",
      "Function value obtained: 0.7898\n",
      "Current minimum: 0.7763\n",
      "Iteration No: 26 started. Searching for the next optimal point.\n",
      "[246, 0.03599250635580402, 4, 0.8289302742692076, 0.014902687718494723] \n",
      "\n",
      "Iteration No: 26 ended. Search finished for the next optimal point.\n",
      "Time taken: 0.3338\n",
      "Function value obtained: 0.7831\n",
      "Current minimum: 0.7763\n",
      "Iteration No: 27 started. Searching for the next optimal point.\n",
      "[11, 0.013093137022674652, 10, 0.48708568467852625, 0.01792909201329876] \n",
      "\n",
      "Iteration No: 27 ended. Search finished for the next optimal point.\n",
      "Time taken: 0.3422\n",
      "Function value obtained: 0.7831\n",
      "Current minimum: 0.7763\n",
      "Iteration No: 28 started. Searching for the next optimal point.\n",
      "[230, 0.017872956103346032, 2, 0.9962964755818245, 0.993100109171846] \n",
      "\n",
      "Iteration No: 28 ended. Search finished for the next optimal point.\n",
      "Time taken: 0.3849\n",
      "Function value obtained: 0.8305\n",
      "Current minimum: 0.7763\n",
      "Iteration No: 29 started. Searching for the next optimal point.\n",
      "[10, 0.9946104335504258, 9, 0.9019237396666872, 0.9732807810490999] \n",
      "\n",
      "Iteration No: 29 ended. Search finished for the next optimal point.\n",
      "Time taken: 0.3626\n",
      "Function value obtained: 0.8169\n",
      "Current minimum: 0.7763\n",
      "Iteration No: 30 started. Searching for the next optimal point.\n",
      "[13, 0.9853274335413958, 2, 0.9416688151584488, 0.018487847952009827] \n",
      "\n",
      "Iteration No: 30 ended. Search finished for the next optimal point.\n",
      "Time taken: 0.3695\n",
      "Function value obtained: 0.8102\n",
      "Current minimum: 0.7763\n",
      "Iteration No: 31 started. Searching for the next optimal point.\n",
      "[1, 0.001, 10, 0.01, 0.01] \n",
      "\n",
      "Iteration No: 31 ended. Search finished for the next optimal point.\n",
      "Time taken: 0.3333\n",
      "Function value obtained: 0.7763\n",
      "Current minimum: 0.7763\n",
      "Iteration No: 32 started. Searching for the next optimal point.\n",
      "[1, 0.001, 10, 0.01, 0.01] \n",
      "\n"
     ]
    },
    {
     "name": "stderr",
     "output_type": "stream",
     "text": [
      "D:\\Users\\Megatron\\Anaconda3\\lib\\site-packages\\skopt\\optimizer\\optimizer.py:409: UserWarning: The objective has been evaluated at this point before.\n",
      "  warnings.warn(\"The objective has been evaluated \"\n"
     ]
    },
    {
     "name": "stdout",
     "output_type": "stream",
     "text": [
      "Iteration No: 32 ended. Search finished for the next optimal point.\n",
      "Time taken: 0.3665\n",
      "Function value obtained: 0.7763\n",
      "Current minimum: 0.7763\n",
      "Iteration No: 33 started. Searching for the next optimal point.\n",
      "[1, 0.001, 10, 0.01, 0.01] \n",
      "\n"
     ]
    },
    {
     "name": "stderr",
     "output_type": "stream",
     "text": [
      "D:\\Users\\Megatron\\Anaconda3\\lib\\site-packages\\skopt\\optimizer\\optimizer.py:409: UserWarning: The objective has been evaluated at this point before.\n",
      "  warnings.warn(\"The objective has been evaluated \"\n"
     ]
    },
    {
     "name": "stdout",
     "output_type": "stream",
     "text": [
      "Iteration No: 33 ended. Search finished for the next optimal point.\n",
      "Time taken: 0.3507\n",
      "Function value obtained: 0.7763\n",
      "Current minimum: 0.7763\n",
      "Iteration No: 34 started. Searching for the next optimal point.\n",
      "[247, 0.007502613138436302, 6, 0.36000769220883583, 0.027781006814715833] \n",
      "\n",
      "Iteration No: 34 ended. Search finished for the next optimal point.\n",
      "Time taken: 0.3705\n",
      "Function value obtained: 0.7932\n",
      "Current minimum: 0.7763\n",
      "Iteration No: 35 started. Searching for the next optimal point.\n",
      "[3, 0.003190455255957783, 3, 0.5540801669426648, 0.4316486891820062] \n",
      "\n",
      "Iteration No: 35 ended. Search finished for the next optimal point.\n",
      "Time taken: 0.3968\n",
      "Function value obtained: 0.8102\n",
      "Current minimum: 0.7763\n",
      "Iteration No: 36 started. Searching for the next optimal point.\n",
      "[246, 0.07969609925447814, 9, 0.06755336629793791, 0.018783531131829484] \n",
      "\n",
      "Iteration No: 36 ended. Search finished for the next optimal point.\n",
      "Time taken: 0.3809\n",
      "Function value obtained: 0.7932\n",
      "Current minimum: 0.7763\n",
      "Iteration No: 37 started. Searching for the next optimal point.\n",
      "[1, 0.001, 10, 1.0, 0.01] \n",
      "\n"
     ]
    },
    {
     "name": "stderr",
     "output_type": "stream",
     "text": [
      "D:\\Users\\Megatron\\Anaconda3\\lib\\site-packages\\skopt\\optimizer\\optimizer.py:409: UserWarning: The objective has been evaluated at this point before.\n",
      "  warnings.warn(\"The objective has been evaluated \"\n"
     ]
    },
    {
     "name": "stdout",
     "output_type": "stream",
     "text": [
      "Iteration No: 37 ended. Search finished for the next optimal point.\n",
      "Time taken: 0.3928\n",
      "Function value obtained: 0.7763\n",
      "Current minimum: 0.7763\n",
      "Iteration No: 38 started. Searching for the next optimal point.\n",
      "[38, 0.007801732187393861, 10, 0.9065524480681918, 0.011889551962075372] \n",
      "\n",
      "Iteration No: 38 ended. Search finished for the next optimal point.\n",
      "Time taken: 0.3824\n",
      "Function value obtained: 0.7932\n",
      "Current minimum: 0.7763\n",
      "Iteration No: 39 started. Searching for the next optimal point.\n",
      "[114, 0.04008428345025525, 7, 0.7645361262686431, 0.01037695773779219] \n",
      "\n",
      "Iteration No: 39 ended. Search finished for the next optimal point.\n",
      "Time taken: 0.3824\n",
      "Function value obtained: 0.7831\n",
      "Current minimum: 0.7763\n",
      "Iteration No: 40 started. Searching for the next optimal point.\n",
      "[1, 0.001, 1, 0.01, 0.01] \n",
      "\n",
      "Iteration No: 40 ended. Search finished for the next optimal point.\n",
      "Time taken: 0.3611\n",
      "Function value obtained: 0.7763\n",
      "Current minimum: 0.7763\n"
     ]
    }
   ],
   "source": [
    "resultados_gp = gp_minimize(treinar_modelo_xgbc,space,random_state=1, verbose=1, n_calls=40, n_random_starts=10,n_jobs=8)"
   ]
  },
  {
   "cell_type": "code",
   "execution_count": 131,
   "metadata": {},
   "outputs": [
    {
     "data": {
      "text/plain": [
       "[1, 0.001, 10, 1.0, 0.01]"
      ]
     },
     "execution_count": 131,
     "metadata": {},
     "output_type": "execute_result"
    }
   ],
   "source": [
    "resultados_gp.x"
   ]
  },
  {
   "cell_type": "code",
   "execution_count": 133,
   "metadata": {},
   "outputs": [
    {
     "data": {
      "text/plain": [
       "<matplotlib.axes._subplots.AxesSubplot at 0x17fed7f05c0>"
      ]
     },
     "execution_count": 133,
     "metadata": {},
     "output_type": "execute_result"
    }
   ],
   "source": [
    "plot_convergence(resultados_gp)"
   ]
  },
  {
   "cell_type": "code",
   "execution_count": 134,
   "metadata": {},
   "outputs": [
    {
     "data": {
      "text/plain": [
       "scipy.optimize.optimize.OptimizeResult"
      ]
     },
     "execution_count": 134,
     "metadata": {},
     "output_type": "execute_result"
    }
   ],
   "source": [
    "type(resultados_gp)"
   ]
  },
  {
   "cell_type": "code",
   "execution_count": 135,
   "metadata": {},
   "outputs": [
    {
     "name": "stdout",
     "output_type": "stream",
     "text": [
      "0.7762711864406779\n"
     ]
    }
   ],
   "source": [
    "xgb2 = XGBClassifier(objective = 'binary:logistic',\n",
    "                     max_depth=resultados_gp.x[0],\n",
    "                     learning_rate=resultados_gp.x[1],\n",
    "                     min_child_weight=resultados_gp.x[2],\n",
    "                     gamma=resultados_gp.x[3],\n",
    "                     colsample_bytree=resultados_gp.x[4],\n",
    "                     random_state = 0)\n",
    "xgb2.fit(X_train, y_train)\n",
    "    \n",
    "p2 = xgb2.predict(X_test)\n",
    "    \n",
    "print(metrics.accuracy_score(y_test, p2))"
   ]
  },
  {
   "cell_type": "markdown",
   "metadata": {},
   "source": [
    "### 2.5 KNN"
   ]
  },
  {
   "cell_type": "code",
   "execution_count": 53,
   "metadata": {},
   "outputs": [
    {
     "name": "stdout",
     "output_type": "stream",
     "text": [
      "0.7830508474576271\n"
     ]
    }
   ],
   "source": [
    "knn = KNeighborsClassifier()\n",
    "knn.fit(X_train, y_train)\n",
    "pred3 = knn.predict(X_test)\n",
    "print(accuracy_score(y_test, pred3))"
   ]
  },
  {
   "cell_type": "markdown",
   "metadata": {},
   "source": [
    "### Aplicação do modelo no csv test"
   ]
  },
  {
   "cell_type": "code",
   "execution_count": 60,
   "metadata": {},
   "outputs": [],
   "source": [
    "df_test = pd.read_csv('test.csv')"
   ]
  },
  {
   "cell_type": "code",
   "execution_count": 61,
   "metadata": {},
   "outputs": [
    {
     "data": {
      "text/html": [
       "<div>\n",
       "<style scoped>\n",
       "    .dataframe tbody tr th:only-of-type {\n",
       "        vertical-align: middle;\n",
       "    }\n",
       "\n",
       "    .dataframe tbody tr th {\n",
       "        vertical-align: top;\n",
       "    }\n",
       "\n",
       "    .dataframe thead th {\n",
       "        text-align: right;\n",
       "    }\n",
       "</style>\n",
       "<table border=\"1\" class=\"dataframe\">\n",
       "  <thead>\n",
       "    <tr style=\"text-align: right;\">\n",
       "      <th></th>\n",
       "      <th>PassengerId</th>\n",
       "      <th>Pclass</th>\n",
       "      <th>Name</th>\n",
       "      <th>Sex</th>\n",
       "      <th>Age</th>\n",
       "      <th>SibSp</th>\n",
       "      <th>Parch</th>\n",
       "      <th>Ticket</th>\n",
       "      <th>Fare</th>\n",
       "      <th>Cabin</th>\n",
       "      <th>Embarked</th>\n",
       "    </tr>\n",
       "  </thead>\n",
       "  <tbody>\n",
       "    <tr>\n",
       "      <th>0</th>\n",
       "      <td>892</td>\n",
       "      <td>3</td>\n",
       "      <td>Kelly, Mr. James</td>\n",
       "      <td>male</td>\n",
       "      <td>34.5</td>\n",
       "      <td>0</td>\n",
       "      <td>0</td>\n",
       "      <td>330911</td>\n",
       "      <td>7.8292</td>\n",
       "      <td>NaN</td>\n",
       "      <td>Q</td>\n",
       "    </tr>\n",
       "  </tbody>\n",
       "</table>\n",
       "</div>"
      ],
      "text/plain": [
       "   PassengerId  Pclass              Name   Sex   Age  SibSp  Parch  Ticket  \\\n",
       "0          892       3  Kelly, Mr. James  male  34.5      0      0  330911   \n",
       "\n",
       "     Fare Cabin Embarked  \n",
       "0  7.8292   NaN        Q  "
      ]
     },
     "execution_count": 61,
     "metadata": {},
     "output_type": "execute_result"
    }
   ],
   "source": [
    "df_test.head(1)"
   ]
  },
  {
   "cell_type": "code",
   "execution_count": 62,
   "metadata": {},
   "outputs": [
    {
     "data": {
      "text/plain": [
       "PassengerId      0\n",
       "Pclass           0\n",
       "Name             0\n",
       "Sex              0\n",
       "Age             86\n",
       "SibSp            0\n",
       "Parch            0\n",
       "Ticket           0\n",
       "Fare             1\n",
       "Cabin          327\n",
       "Embarked         0\n",
       "dtype: int64"
      ]
     },
     "execution_count": 62,
     "metadata": {},
     "output_type": "execute_result"
    }
   ],
   "source": [
    "df_test.isna().sum()"
   ]
  },
  {
   "cell_type": "code",
   "execution_count": 63,
   "metadata": {},
   "outputs": [],
   "source": [
    "df_test['Age'].fillna(df_test['Age'].mean(),inplace=True)"
   ]
  },
  {
   "cell_type": "code",
   "execution_count": 64,
   "metadata": {},
   "outputs": [],
   "source": [
    "df_test['Fare'].fillna(df_test['Fare'].mean(),inplace=True)"
   ]
  },
  {
   "cell_type": "code",
   "execution_count": 65,
   "metadata": {},
   "outputs": [],
   "source": [
    "df_test['Title'] = df_test['Name'].str.extract(' ([A-Za-z]+)\\.', expand = False)\n",
    "#df_test['Title'].unique().tolist()"
   ]
  },
  {
   "cell_type": "code",
   "execution_count": 66,
   "metadata": {},
   "outputs": [
    {
     "data": {
      "text/plain": [
       "Mr        57.416268\n",
       "Miss      18.899522\n",
       "Mrs       17.464115\n",
       "Master     5.023923\n",
       "Rare       1.196172\n",
       "Name: Title, dtype: float64"
      ]
     },
     "execution_count": 66,
     "metadata": {},
     "output_type": "execute_result"
    }
   ],
   "source": [
    "mapping = {'Mlle': 'Miss', 'Major': 'Rare', 'Col': 'Rare', 'Sir': 'Rare', 'Don': 'Rare', 'Mme': 'Mrs',\n",
    "           'Jonkheer': 'Rare', 'Lady': 'Rare', 'Capt': 'Rare', 'Countess': 'Rare', 'Ms': 'Miss', 'Dona': 'Mrs', 'Rev':'Rare', 'Dr':'Rare'}\n",
    "\n",
    "df_test.replace({'Title': mapping}, inplace=True)\n",
    "\n",
    "df_test['Title'].value_counts(normalize=True)*100"
   ]
  },
  {
   "cell_type": "code",
   "execution_count": 67,
   "metadata": {},
   "outputs": [],
   "source": [
    "df_test['Title'] = df_test['Title'].map({'Mr':0, 'Miss':1, 'Mrs':2, 'Master':3, 'Rare':4})"
   ]
  },
  {
   "cell_type": "code",
   "execution_count": 71,
   "metadata": {},
   "outputs": [],
   "source": [
    "df_test['AgeGroup'] = pd.cut(df_test[\"Age\"], bins, labels = labels)\n",
    "df_test['AgeGroup'] = df_test['AgeGroup'].map(age_mapping)"
   ]
  },
  {
   "cell_type": "code",
   "execution_count": 69,
   "metadata": {},
   "outputs": [],
   "source": [
    "df_test = pd.get_dummies(df_test, columns=['Sex','Embarked'])"
   ]
  },
  {
   "cell_type": "code",
   "execution_count": 136,
   "metadata": {},
   "outputs": [],
   "source": [
    "f_pred = clf.predict(df_test[features])\n",
    "f_pre2 = clf_2.predict(df_test[features])\n",
    "f_pre3 = clf_3.predict(df_test[features])\n",
    "f_pre4 = xgb2.predict(df_test[features])"
   ]
  },
  {
   "cell_type": "code",
   "execution_count": 137,
   "metadata": {},
   "outputs": [],
   "source": [
    "Id = df_test.PassengerId\n",
    "output = pd.DataFrame({'PassengerId': Id, 'Survived':f_pre4})\n",
    "output.to_csv('submission.csv', index=False)"
   ]
  }
 ],
 "metadata": {
  "kernelspec": {
   "display_name": "Python 3",
   "language": "python",
   "name": "python3"
  },
  "language_info": {
   "codemirror_mode": {
    "name": "ipython",
    "version": 3
   },
   "file_extension": ".py",
   "mimetype": "text/x-python",
   "name": "python",
   "nbconvert_exporter": "python",
   "pygments_lexer": "ipython3",
   "version": "3.7.3"
  }
 },
 "nbformat": 4,
 "nbformat_minor": 2
}
